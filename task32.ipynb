{
  "nbformat": 4,
  "nbformat_minor": 0,
  "metadata": {
    "colab": {
      "name": "task32.ipynb",
      "provenance": [],
      "collapsed_sections": [],
      "toc_visible": true,
      "include_colab_link": true
    },
    "kernelspec": {
      "display_name": "Python 3 (ipykernel)",
      "language": "python",
      "name": "python3"
    },
    "language_info": {
      "codemirror_mode": {
        "name": "ipython",
        "version": 3
      },
      "file_extension": ".py",
      "mimetype": "text/x-python",
      "name": "python",
      "nbconvert_exporter": "python",
      "pygments_lexer": "ipython3",
      "version": "3.9.6"
    }
  },
  "cells": [
    {
      "cell_type": "markdown",
      "metadata": {
        "id": "view-in-github",
        "colab_type": "text"
      },
      "source": [
        "<a href=\"https://colab.research.google.com/github/teacher-ikt/Project/blob/main/task32.ipynb\" target=\"_parent\"><img src=\"https://colab.research.google.com/assets/colab-badge.svg\" alt=\"Open In Colab\"/></a>"
      ]
    },
    {
      "cell_type": "markdown",
      "metadata": {
        "id": "R4JgDAcNbmku"
      },
      "source": [
        "\n",
        "# Занятие 32. Работа над проектами. Часть 2. Контроль версий, Git, GitHub \n",
        "\n"
      ]
    },
    {
      "cell_type": "markdown",
      "source": [
        "Полная версия документации на английском [Текст ссылки](https://docs.github.com/en/get-started/quickstart/hello-world)\n",
        "\n",
        "\n",
        "Краткая инструкция по git - [Git за полчаса: руководство для начинающих](https://proglib.io/p/git-for-half-an-hour)"
      ],
      "metadata": {
        "id": "EYhGKPHO91Yh"
      }
    },
    {
      "cell_type": "markdown",
      "source": [
        "Желающие основательно изучить работу с git могут пройти курс  из 16 уроков [Введение в Git для начинающих, обучение с нуля (Хекслет)](https://ru.hexlet.io/courses/intro_to_git)"
      ],
      "metadata": {
        "id": "fDPd03K6-OoE"
      }
    },
    {
      "cell_type": "markdown",
      "source": [
        ""
      ],
      "metadata": {
        "id": "itxmIHjN_t3y"
      }
    },
    {
      "cell_type": "code",
      "source": [
        "# Что-то поменяем \n",
        "print(\"Пробуем работать с git\")"
      ],
      "metadata": {
        "id": "_KemTg-bdQgP",
        "colab": {
          "base_uri": "https://localhost:8080/"
        },
        "outputId": "fa0614a4-4582-4eac-93da-3dba54fb0987"
      },
      "execution_count": null,
      "outputs": [
        {
          "output_type": "stream",
          "name": "stdout",
          "text": [
            "Пробуем работать с git\n"
          ]
        }
      ]
    },
    {
      "cell_type": "code",
      "source": [
        ""
      ],
      "metadata": {
        "id": "ymMdFJ69AmXy"
      },
      "execution_count": null,
      "outputs": []
    }
  ]
}